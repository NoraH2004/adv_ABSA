{
 "cells": [
  {
   "cell_type": "markdown",
   "metadata": {},
   "source": [
    "# Results"
   ]
  },
  {
   "cell_type": "code",
   "execution_count": 53,
   "metadata": {},
   "outputs": [],
   "source": [
    "import os\n",
    "import pandas as pd\n",
    "\n",
    "import utils.text_processing as tp\n",
    "%store -r results_leet\n",
    "%store -r results_typo\n",
    "%store -r results_punctuation"
   ]
  },
  {
   "cell_type": "code",
   "execution_count": 54,
   "metadata": {},
   "outputs": [
    {
     "data": {
      "text/html": [
       "<div>\n",
       "<style scoped>\n",
       "    .dataframe tbody tr th:only-of-type {\n",
       "        vertical-align: middle;\n",
       "    }\n",
       "\n",
       "    .dataframe tbody tr th {\n",
       "        vertical-align: top;\n",
       "    }\n",
       "\n",
       "    .dataframe thead th {\n",
       "        text-align: right;\n",
       "    }\n",
       "</style>\n",
       "<table border=\"1\" class=\"dataframe\">\n",
       "  <thead>\n",
       "    <tr style=\"text-align: right;\">\n",
       "      <th></th>\n",
       "      <th>0</th>\n",
       "      <th>0</th>\n",
       "      <th>0</th>\n",
       "    </tr>\n",
       "  </thead>\n",
       "  <tbody>\n",
       "    <tr>\n",
       "      <th>Perturbation Method</th>\n",
       "      <td>leet speak</td>\n",
       "      <td>typos</td>\n",
       "      <td>punctuation</td>\n",
       "    </tr>\n",
       "    <tr>\n",
       "      <th>Tokenizer</th>\n",
       "      <td>nlptown/bert-base-multilingual-uncased-sentiment</td>\n",
       "      <td>nlptown/bert-base-multilingual-uncased-sentiment</td>\n",
       "      <td>nlptown/bert-base-multilingual-uncased-sentiment</td>\n",
       "    </tr>\n",
       "    <tr>\n",
       "      <th>Model</th>\n",
       "      <td>nlptown/bert-base-multilingual-uncased-sentiment</td>\n",
       "      <td>nlptown/bert-base-multilingual-uncased-sentiment</td>\n",
       "      <td>nlptown/bert-base-multilingual-uncased-sentiment</td>\n",
       "    </tr>\n",
       "    <tr>\n",
       "      <th>Dataset</th>\n",
       "      <td>TripAdvisor Hotel Reviews</td>\n",
       "      <td>TripAdvisor Hotel Reviews</td>\n",
       "      <td>TripAdvisor Hotel Reviews</td>\n",
       "    </tr>\n",
       "    <tr>\n",
       "      <th>Output lables</th>\n",
       "      <td>Range from 0 to 4 - 0 = NEG; 4 = POS</td>\n",
       "      <td>Range from 0 to 4 - 0 = NEG; 4 = POS</td>\n",
       "      <td>Range from 0 to 4 - 0 = NEG; 4 = POS</td>\n",
       "    </tr>\n",
       "    <tr>\n",
       "      <th>Items in original dataset</th>\n",
       "      <td>435</td>\n",
       "      <td>435</td>\n",
       "      <td>435</td>\n",
       "    </tr>\n",
       "    <tr>\n",
       "      <th>Items in adversarial dataset</th>\n",
       "      <td>183</td>\n",
       "      <td>330</td>\n",
       "      <td>56</td>\n",
       "    </tr>\n",
       "    <tr>\n",
       "      <th>Percentage</th>\n",
       "      <td>42.069</td>\n",
       "      <td>75.8621</td>\n",
       "      <td>12.8736</td>\n",
       "    </tr>\n",
       "  </tbody>\n",
       "</table>\n",
       "</div>"
      ],
      "text/plain": [
       "                                                                             0  \\\n",
       "Perturbation Method                                                 leet speak   \n",
       "Tokenizer                     nlptown/bert-base-multilingual-uncased-sentiment   \n",
       "Model                         nlptown/bert-base-multilingual-uncased-sentiment   \n",
       "Dataset                                              TripAdvisor Hotel Reviews   \n",
       "Output lables                             Range from 0 to 4 - 0 = NEG; 4 = POS   \n",
       "Items in original dataset                                                  435   \n",
       "Items in adversarial dataset                                               183   \n",
       "Percentage                                                              42.069   \n",
       "\n",
       "                                                                             0  \\\n",
       "Perturbation Method                                                      typos   \n",
       "Tokenizer                     nlptown/bert-base-multilingual-uncased-sentiment   \n",
       "Model                         nlptown/bert-base-multilingual-uncased-sentiment   \n",
       "Dataset                                              TripAdvisor Hotel Reviews   \n",
       "Output lables                             Range from 0 to 4 - 0 = NEG; 4 = POS   \n",
       "Items in original dataset                                                  435   \n",
       "Items in adversarial dataset                                               330   \n",
       "Percentage                                                             75.8621   \n",
       "\n",
       "                                                                             0  \n",
       "Perturbation Method                                                punctuation  \n",
       "Tokenizer                     nlptown/bert-base-multilingual-uncased-sentiment  \n",
       "Model                         nlptown/bert-base-multilingual-uncased-sentiment  \n",
       "Dataset                                              TripAdvisor Hotel Reviews  \n",
       "Output lables                             Range from 0 to 4 - 0 = NEG; 4 = POS  \n",
       "Items in original dataset                                                  435  \n",
       "Items in adversarial dataset                                                56  \n",
       "Percentage                                                             12.8736  "
      ]
     },
     "execution_count": 54,
     "metadata": {},
     "output_type": "execute_result"
    }
   ],
   "source": [
    "results = [results_leet, results_typo, results_punctuation]\n",
    "result = pd.concat(results, axis=1)\n",
    "result"
   ]
  },
  {
   "cell_type": "markdown",
   "metadata": {},
   "source": [
    "# Vizualization of results [coming soon]"
   ]
  },
  {
   "cell_type": "code",
   "execution_count": 17,
   "metadata": {},
   "outputs": [],
   "source": [
    "original_predictions = 2\n",
    "modified_predictions = [4, 2, 2, 1]"
   ]
  },
  {
   "cell_type": "code",
   "execution_count": 20,
   "metadata": {},
   "outputs": [],
   "source": [
    "rel_discr_items = []\n",
    "for i, item in enumerate(modified_predictions):\n",
    "    rel_discr_item = abs(original_predictions - modified_predictions[i])\n",
    "    rel_discr_items.append(rel_discr_item)\n",
    "\n",
    "rel_discr = sum(rel_discr_items)/len(rel_discr_items)"
   ]
  },
  {
   "cell_type": "code",
   "execution_count": 21,
   "metadata": {},
   "outputs": [
    {
     "data": {
      "text/plain": [
       "0.75"
      ]
     },
     "execution_count": 21,
     "metadata": {},
     "output_type": "execute_result"
    }
   ],
   "source": [
    "rel_discr"
   ]
  },
  {
   "cell_type": "markdown",
   "metadata": {},
   "source": [
    "## Notes\n",
    "histogram mit der Änderungsstärke\n",
    "\n",
    "mit häufigkeitshistogram\n",
    "\n",
    "hischreiben, dass ich von 4 um 4 springen kann auf 0\n",
    "von 3 jedoch nur 1 \n",
    "\n",
    "heatmap\n",
    "\n",
    "\n",
    "dataloader:\n",
    "    beautiful soup\n",
    "    libxml\n",
    "    \n",
    "    https://stackoverflow.com/questions/28259301/how-to-convert-an-xml-file-to-nice-pandas-dataframe"
   ]
  },
  {
   "cell_type": "code",
   "execution_count": null,
   "metadata": {},
   "outputs": [],
   "source": []
  }
 ],
 "metadata": {
  "kernelspec": {
   "display_name": "Python 3",
   "language": "python",
   "name": "python3"
  },
  "language_info": {
   "codemirror_mode": {
    "name": "ipython",
    "version": 3
   },
   "file_extension": ".py",
   "mimetype": "text/x-python",
   "name": "python",
   "nbconvert_exporter": "python",
   "pygments_lexer": "ipython3",
   "version": "3.6.9"
  }
 },
 "nbformat": 4,
 "nbformat_minor": 4
}
